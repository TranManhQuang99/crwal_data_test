{
 "cells": [
  {
   "cell_type": "code",
   "execution_count": 1,
   "id": "0445cee7-b535-4e69-8a32-c9c2be50cdfd",
   "metadata": {},
   "outputs": [],
   "source": [
    "import pickle\n",
    "from selenium import webdriver\n",
    "from time import sleep\n",
    "from selenium.webdriver.chrome import options\n",
    "from selenium.webdriver.chrome.options import Options\n",
    "from selenium.webdriver.common.keys import Keys\n",
    "from selenium.webdriver.common.action_chains import ActionChains\n",
    "from random import randint\n",
    "from bs4 import BeautifulSoup\n",
    "from webdriver_manager.chrome import ChromeDriverManager\n",
    "from selenium.webdriver.chrome.service import Service\n",
    "from  selenium.webdriver.common.by import By\n",
    "import csv\n"
   ]
  },
  {
   "cell_type": "code",
   "execution_count": 2,
   "id": "a5a12d45-6179-42ec-8fd6-b3e491efa07a",
   "metadata": {},
   "outputs": [],
   "source": [
    "s = Service(\"C:/Users/armi1/PycharmProjects/pythonProject/venv/crawl_data_facebook\\chromedriver.exe\")\n",
    "browser = webdriver.Chrome(service=s)\n",
    "# mo thu 1 trang web\n",
    "browser.get(\"https://twitter.com/i/flow/login\")\n"
   ]
  },
  {
   "cell_type": "code",
   "execution_count": 3,
   "id": "929860c0-e3bf-4a74-8a91-ed478365184e",
   "metadata": {},
   "outputs": [],
   "source": [
    "def login_twitter():\n",
    "    click_deteth = browser.find_element(By.XPATH,\"//html\").click()\n",
    "    email_login = browser.find_element(By.CLASS_NAME,\"r-z2wwpe\")\n",
    "    email_login.send_keys(\"armi1xx11@gmail.com\")\n",
    "    sleep(1)\n",
    "    email_login.send_keys(Keys.RETURN)\n",
    "    sleep(1)\n",
    "    \n",
    "    \n",
    "    click_deteth = browser.find_element(By.XPATH,\"//html\").click()\n",
    "    username_login = browser.find_element(By.CLASS_NAME,\"r-1kqtdi0\")\n",
    "    username_login.send_keys(\"Quangdzvcl\")\n",
    "    username_login.send_keys(Keys.RETURN)\n",
    "    sleep(1)\n",
    "    \n",
    "    \n",
    "    \n",
    "    click_deteth = browser.find_element(By.XPATH,\"//html\").click()\n",
    "    password_login = browser.find_element(By.CLASS_NAME,\"r-1kqtdi0\")\n",
    "    password_login.send_keys(\"Quangtran12341@\")\n",
    "    password_login.send_keys(Keys.RETURN)\n",
    "    sleep(1)\n",
    "    \n",
    "    \n",
    "login_twitter()"
   ]
  },
  {
   "cell_type": "code",
   "execution_count": 4,
   "id": "ade70213-4c22-47ae-a7bd-fb2cf1f33b1c",
   "metadata": {},
   "outputs": [],
   "source": [
    "\n",
    "def search(key_word):\n",
    "    browser.find_element(By.XPATH,'//*[@id=\"react-root\"]/div/div/div[2]/header/div/div/div/div[1]/div[2]/nav/a[2]').click()\n",
    "    sleep(1)\n",
    "    search_keyword = browser.find_element(By.CLASS_NAME,\"r-1dqbpge\")\n",
    "    search_keyword.send_keys(key_word)\n",
    "    search_keyword.send_keys(Keys.RETURN)\n",
    "    sleep(1)\n",
    "\n",
    "search(\"data engineer\")\n"
   ]
  },
  {
   "cell_type": "code",
   "execution_count": 5,
   "id": "61e0df7e",
   "metadata": {},
   "outputs": [],
   "source": [
    "\n",
    "all_url_post2 = []\n",
    "def x():\n",
    "    for i in range(10):\n",
    "        browser.execute_script(f'window.scrollTo(0,{i+1}*1080)')\n",
    "        sleep(1)\n",
    "        page_source = BeautifulSoup(browser.page_source,\"html.parser\")\n",
    "        post2 = page_source.find_all('a', class_='css-4rbku5 css-18t94o4 css-1dbjc4n r-1loqt21 r-t2kpel r-1ny4l3l r-1udh08x r-ymttw5 r-1vvnge1 r-o7ynqc r-6416eg')\n",
    "        post3 = page_source.find_all('a', class_='css-4rbku5 css-18t94o4 css-901oao r-9ilb82 r-1loqt21 r-1q142lx r-37j5jr r-a023e6 r-16dba41 r-rjixqe r-bcqeeo r-3s2u2q r-qvutc0')\n",
    "        sleep(1)\n",
    "        for url_post2 in post2:\n",
    "            link_url2 = url_post2.get(\"href\")\n",
    "            link_url_full = 'https://twitter.com'+link_url2\n",
    "            if link_url_full not in all_url_post2:\n",
    "                all_url_post2.append(link_url_full)\n",
    "        for url_post3 in post3:\n",
    "            link_url3 = url_post3.get(\"href\")\n",
    "            link_url_full = 'https://twitter.com'+link_url3\n",
    "            if link_url_full not in all_url_post2:\n",
    "                all_url_post2.append(link_url_full)\n",
    "    return all_url_post2\n",
    "    \n",
    "all_url_post2 = x()"
   ]
  },
  {
   "cell_type": "code",
   "execution_count": 161,
   "id": "5c38c1b0",
   "metadata": {},
   "outputs": [
    {
     "ename": "AttributeError",
     "evalue": "'NoneType' object has no attribute 'find'",
     "output_type": "error",
     "traceback": [
      "\u001b[1;31m---------------------------------------------------------------------------\u001b[0m",
      "\u001b[1;31mAttributeError\u001b[0m                            Traceback (most recent call last)",
      "\u001b[1;32m<ipython-input-161-3b52d67f6538>\u001b[0m in \u001b[0;36m<module>\u001b[1;34m\u001b[0m\n\u001b[0;32m      8\u001b[0m         \u001b[0mprint\u001b[0m\u001b[1;33m(\u001b[0m\u001b[0mpost\u001b[0m\u001b[1;33m)\u001b[0m\u001b[1;33m\u001b[0m\u001b[1;33m\u001b[0m\u001b[0m\n\u001b[0;32m      9\u001b[0m \u001b[1;33m\u001b[0m\u001b[0m\n\u001b[1;32m---> 10\u001b[1;33m \u001b[0mcrawl_data_twitter\u001b[0m\u001b[1;33m(\u001b[0m\u001b[1;33m)\u001b[0m\u001b[1;33m\u001b[0m\u001b[1;33m\u001b[0m\u001b[0m\n\u001b[0m",
      "\u001b[1;32m<ipython-input-161-3b52d67f6538>\u001b[0m in \u001b[0;36mcrawl_data_twitter\u001b[1;34m()\u001b[0m\n\u001b[0;32m      3\u001b[0m         \u001b[0mbrowser\u001b[0m\u001b[1;33m.\u001b[0m\u001b[0mget\u001b[0m\u001b[1;33m(\u001b[0m\u001b[0mlink\u001b[0m\u001b[1;33m)\u001b[0m\u001b[1;33m\u001b[0m\u001b[1;33m\u001b[0m\u001b[0m\n\u001b[0;32m      4\u001b[0m         \u001b[0mpage_source_twiter\u001b[0m \u001b[1;33m=\u001b[0m \u001b[0mBeautifulSoup\u001b[0m\u001b[1;33m(\u001b[0m\u001b[0mbrowser\u001b[0m\u001b[1;33m.\u001b[0m\u001b[0mpage_source\u001b[0m\u001b[1;33m,\u001b[0m \u001b[1;34m\"html.parser\"\u001b[0m\u001b[1;33m)\u001b[0m\u001b[1;33m\u001b[0m\u001b[1;33m\u001b[0m\u001b[0m\n\u001b[1;32m----> 5\u001b[1;33m         \u001b[0mname\u001b[0m \u001b[1;33m=\u001b[0m \u001b[0minfo_div\u001b[0m\u001b[1;33m.\u001b[0m\u001b[0mfind\u001b[0m\u001b[1;33m(\u001b[0m\u001b[1;34m'span'\u001b[0m\u001b[1;33m,\u001b[0m\u001b[0mclass_\u001b[0m\u001b[1;33m=\u001b[0m\u001b[1;34m\"css-901oao css-16my406 r-poiln3 r-bcqeeo r-qvutc0\"\u001b[0m\u001b[1;33m)\u001b[0m\u001b[1;33m.\u001b[0m\u001b[0mget_text\u001b[0m\u001b[1;33m(\u001b[0m\u001b[1;33m)\u001b[0m\u001b[1;33m.\u001b[0m\u001b[0mstrip\u001b[0m\u001b[1;33m(\u001b[0m\u001b[1;33m)\u001b[0m\u001b[1;33m\u001b[0m\u001b[1;33m\u001b[0m\u001b[0m\n\u001b[0m\u001b[0;32m      6\u001b[0m         \u001b[0mpost\u001b[0m \u001b[1;33m=\u001b[0m \u001b[0minfo_div\u001b[0m\u001b[1;33m.\u001b[0m\u001b[0mfind\u001b[0m\u001b[1;33m(\u001b[0m\u001b[1;34m'span'\u001b[0m\u001b[1;33m,\u001b[0m\u001b[0mclass_\u001b[0m\u001b[1;33m=\u001b[0m\u001b[1;34m'css-901oao css-16my406 r-poiln3 r-bcqeeo r-qvutc0'\u001b[0m\u001b[1;33m)\u001b[0m\u001b[1;33m.\u001b[0m\u001b[0mget_text\u001b[0m\u001b[1;33m(\u001b[0m\u001b[1;33m)\u001b[0m\u001b[1;33m.\u001b[0m\u001b[0mstrip\u001b[0m\u001b[1;33m(\u001b[0m\u001b[1;33m)\u001b[0m\u001b[1;33m\u001b[0m\u001b[1;33m\u001b[0m\u001b[0m\n\u001b[0;32m      7\u001b[0m \u001b[1;31m#         print(name,post)\u001b[0m\u001b[1;33m\u001b[0m\u001b[1;33m\u001b[0m\u001b[1;33m\u001b[0m\u001b[0m\n",
      "\u001b[1;31mAttributeError\u001b[0m: 'NoneType' object has no attribute 'find'"
     ]
    }
   ],
   "source": [
    "def crawl_data_twitter():\n",
    "    for link in all_url_post2:\n",
    "        browser.get(link)\n",
    "        page_source_twiter = BeautifulSoup(browser.page_source, \"html.parser\")\n",
    "        name = info_div.find('span',class_=\"css-901oao css-16my406 r-poiln3 r-bcqeeo r-qvutc0\").get_text().strip()\n",
    "        post = info_div.find('span',class_='css-901oao css-16my406 r-poiln3 r-bcqeeo r-qvutc0').get_text().strip()\n",
    "#         print(name,post)\n",
    "        print(post)\n",
    "        \n",
    "crawl_data_twitter()"
   ]
  },
  {
   "cell_type": "code",
   "execution_count": 198,
   "id": "e509b37c",
   "metadata": {},
   "outputs": [
    {
     "ename": "KeyboardInterrupt",
     "evalue": "",
     "output_type": "error",
     "traceback": [
      "\u001b[1;31m---------------------------------------------------------------------------\u001b[0m",
      "\u001b[1;31mKeyboardInterrupt\u001b[0m                         Traceback (most recent call last)",
      "\u001b[1;32m<ipython-input-198-f961fa2ae9ae>\u001b[0m in \u001b[0;36m<module>\u001b[1;34m\u001b[0m\n\u001b[0;32m     18\u001b[0m             \u001b[1;32mcontinue\u001b[0m\u001b[1;33m\u001b[0m\u001b[1;33m\u001b[0m\u001b[0m\n\u001b[0;32m     19\u001b[0m         \u001b[0mprint\u001b[0m\u001b[1;33m(\u001b[0m\u001b[0mthiet_bi\u001b[0m\u001b[1;33m)\u001b[0m\u001b[1;33m\u001b[0m\u001b[1;33m\u001b[0m\u001b[0m\n\u001b[1;32m---> 20\u001b[1;33m \u001b[0mcrawl_data_twitter\u001b[0m\u001b[1;33m(\u001b[0m\u001b[1;33m)\u001b[0m\u001b[1;33m\u001b[0m\u001b[1;33m\u001b[0m\u001b[0m\n\u001b[0m",
      "\u001b[1;32m<ipython-input-198-f961fa2ae9ae>\u001b[0m in \u001b[0;36mcrawl_data_twitter\u001b[1;34m()\u001b[0m\n\u001b[0;32m      2\u001b[0m     \u001b[1;32mfor\u001b[0m \u001b[0mlink\u001b[0m \u001b[1;32min\u001b[0m \u001b[0mall_url_post2\u001b[0m\u001b[1;33m:\u001b[0m\u001b[1;33m\u001b[0m\u001b[1;33m\u001b[0m\u001b[0m\n\u001b[0;32m      3\u001b[0m         \u001b[0mbrowser\u001b[0m\u001b[1;33m.\u001b[0m\u001b[0mget\u001b[0m\u001b[1;33m(\u001b[0m\u001b[0mlink\u001b[0m\u001b[1;33m)\u001b[0m\u001b[1;33m\u001b[0m\u001b[1;33m\u001b[0m\u001b[0m\n\u001b[1;32m----> 4\u001b[1;33m         \u001b[0msleep\u001b[0m\u001b[1;33m(\u001b[0m\u001b[1;36m2\u001b[0m\u001b[1;33m)\u001b[0m\u001b[1;33m\u001b[0m\u001b[1;33m\u001b[0m\u001b[0m\n\u001b[0m\u001b[0;32m      5\u001b[0m         \u001b[0mpage_source_twiter\u001b[0m \u001b[1;33m=\u001b[0m \u001b[0mBeautifulSoup\u001b[0m\u001b[1;33m(\u001b[0m\u001b[0mbrowser\u001b[0m\u001b[1;33m.\u001b[0m\u001b[0mpage_source\u001b[0m\u001b[1;33m,\u001b[0m \u001b[1;34m\"html.parser\"\u001b[0m\u001b[1;33m)\u001b[0m\u001b[1;33m\u001b[0m\u001b[1;33m\u001b[0m\u001b[0m\n\u001b[0;32m      6\u001b[0m         \u001b[0minfo_div\u001b[0m \u001b[1;33m=\u001b[0m \u001b[0mpage_source_twiter\u001b[0m\u001b[1;33m.\u001b[0m\u001b[0mfind\u001b[0m\u001b[1;33m(\u001b[0m\u001b[1;34m'div'\u001b[0m\u001b[1;33m,\u001b[0m \u001b[0mclass_\u001b[0m\u001b[1;33m=\u001b[0m\u001b[1;34m\"css-1dbjc4n r-16y2uox r-1wbh5a2 r-1ny4l3l\"\u001b[0m\u001b[1;33m)\u001b[0m\u001b[1;33m\u001b[0m\u001b[1;33m\u001b[0m\u001b[0m\n",
      "\u001b[1;31mKeyboardInterrupt\u001b[0m: "
     ]
    }
   ],
   "source": [
    "def crawl_data_twitter():\n",
    "    for link in all_url_post2:\n",
    "        browser.get(link)\n",
    "        sleep(2)\n",
    "        page_source_twiter = BeautifulSoup(browser.page_source, \"html.parser\")\n",
    "        info_div = page_source_twiter.find('div', class_=\"css-1dbjc4n r-16y2uox r-1wbh5a2 r-1ny4l3l\")\n",
    "        try:\n",
    "            name = info_div.find('span',class_=\"css-901oao css-16my406 r-poiln3 r-bcqeeo r-qvutc0\").get_text().strip()\n",
    "        except:\n",
    "            continue\n",
    "        try:\n",
    "            post = info_div.find('div',class_=\"css-901oao r-1fmj7o5 r-37j5jr r-1blvdjr r-16dba41 r-vrz42v r-bcqeeo r-bnwqim r-qvutc0\").get_text().strip()\n",
    "        except:\n",
    "            continue\n",
    "        try:\n",
    "            thiet_bi = info_div.find('span',xpath='css-901oao css-16my406 r-poiln3 r-bcqeeo r-qvutc0').get_text().strip()\n",
    "        except:\n",
    "            continue        \n",
    "        print(thiet_bi)\n",
    "crawl_data_twitter()   \n"
   ]
  },
  {
   "cell_type": "code",
   "execution_count": 158,
   "id": "8c01059b",
   "metadata": {},
   "outputs": [
    {
     "name": "stdout",
     "output_type": "stream",
     "text": [
      "Daily data engineer appreciation post #dataengineering\n"
     ]
    }
   ],
   "source": [
    "page_source_twiter = BeautifulSoup(browser.page_source, \"html.parser\")\n",
    "info_div = page_source_twiter.find('div', class_=\"css-1dbjc4n r-16y2uox r-1wbh5a2 r-1ny4l3l\")\n",
    "name = info_div.find('span',class_=\"css-901oao css-16my406 r-poiln3 r-bcqeeo r-qvutc0\").get_text().strip()\n",
    "post = info_div.find('div',class_=\"css-901oao r-1fmj7o5 r-37j5jr r-1blvdjr r-16dba41 r-vrz42v r-bcqeeo r-bnwqim r-qvutc0\").get_text().strip()\n",
    "print(post)"
   ]
  },
  {
   "cell_type": "code",
   "execution_count": 160,
   "id": "4a4e0f47",
   "metadata": {},
   "outputs": [
    {
     "name": "stdout",
     "output_type": "stream",
     "text": [
      "None\n"
     ]
    }
   ],
   "source": [
    "\n",
    "\n",
    "browser.get('https://twitter.com/WhoIsDendi/status/1453744033755537408')\n",
    "page_source_twiter = BeautifulSoup(browser.page_source, \"html.parser\")\n",
    "info_div = page_source_twiter.find('div', class_=\"css-1dbjc4n r-16y2uox r-1wbh5a2 r-1ny4l3l\")\n",
    "#         name = info_div.find('span',class_=\"css-901oao css-16my406 r-poiln3 r-bcqeeo r-qvutc0\").get_text().strip()\n",
    "#         post = info_div.find('span',class_='css-901oao css-16my406 r-poiln3 r-bcqeeo r-qvutc0').get_text().strip()\n",
    "#         print(name,post)\n",
    "print(info_div)\n",
    "        \n"
   ]
  },
  {
   "cell_type": "code",
   "execution_count": 181,
   "id": "43ff5e07",
   "metadata": {},
   "outputs": [
    {
     "name": "stdout",
     "output_type": "stream",
     "text": [
      "To view keyboard shortcuts, press question mark Data engineer needed for a project  \n",
      "Minimum 2 years experience required  \n",
      "Salary: $1,200 - $1,600\n",
      "Send CV to belindaaadusei@gmail.com\n",
      "DM if you have any questions \n",
      "Please RT\n"
     ]
    }
   ],
   "source": [
    "browser.get('https://twitter.com/_belindaa_b/status/1454090367075332096')\n",
    "sleep(2)\n",
    "page_source_twiter = BeautifulSoup(browser.page_source, \"html.parser\")\n",
    "info_div = page_source_twiter.find('div', class_=\"css-1dbjc4n r-1igl3o0 r-qklmqi r-1adg3ll r-1ny4l3l\")\n",
    "name = page_source_twiter.find('span',class_=\"css-901oao css-16my406 r-poiln3 r-bcqeeo r-qvutc0\").get_text().strip()\n",
    "post = info_div.find('div',class_=\"css-901oao r-1fmj7o5 r-37j5jr r-1blvdjr r-16dba41 r-vrz42v r-bcqeeo r-bnwqim r-qvutc0\").get_text().strip()\n",
    "print(name,post)"
   ]
  },
  {
   "cell_type": "code",
   "execution_count": null,
   "id": "3cde691d",
   "metadata": {},
   "outputs": [],
   "source": []
  }
 ],
 "metadata": {
  "kernelspec": {
   "display_name": "Python 3 (ipykernel)",
   "language": "python",
   "name": "python3"
  },
  "language_info": {
   "codemirror_mode": {
    "name": "ipython",
    "version": 3
   },
   "file_extension": ".py",
   "mimetype": "text/x-python",
   "name": "python",
   "nbconvert_exporter": "python",
   "pygments_lexer": "ipython3",
   "version": "3.9.5"
  }
 },
 "nbformat": 4,
 "nbformat_minor": 5
}
