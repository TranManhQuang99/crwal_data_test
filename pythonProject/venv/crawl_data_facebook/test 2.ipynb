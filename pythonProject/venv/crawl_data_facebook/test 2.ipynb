{
 "cells": [
  {
   "cell_type": "code",
   "execution_count": 1,
   "id": "835f59ec",
   "metadata": {},
   "outputs": [],
   "source": [
    "import pickle\n",
    "from selenium import webdriver\n",
    "from time import sleep\n",
    "from selenium.webdriver.chrome import options\n",
    "from selenium.webdriver.chrome.options import Options\n",
    "from selenium.webdriver.common.keys import Keys\n",
    "from selenium.webdriver.common.action_chains import ActionChains\n",
    "from random import randint\n",
    "from bs4 import BeautifulSoup\n",
    "from webdriver_manager.chrome import ChromeDriverManager\n",
    "from selenium.webdriver.chrome.service import Service\n",
    "from  selenium.webdriver.common.by import By\n",
    "import csv\n",
    "import json\n",
    "import pymongo\n",
    "from pymongo import MongoClient\n",
    "import re\n",
    "import datetime\n",
    "import random"
   ]
  },
  {
   "cell_type": "code",
   "execution_count": null,
   "id": "391c28dc",
   "metadata": {},
   "outputs": [],
   "source": [
    "chrome_options = webdriver.ChromeOptions()\n",
    "chrome_options.add_argument('--disable-notifications')\n",
    "s = Service(\"C:/Users/armi1/PycharmProjects/pythonProject/venv/crawl_data_facebook\\chromedriver.exe\")\n",
    "browser = webdriver.Chrome(service=s,options=chrome_options)\n",
    "# browser.implicitly_wait(10)\n",
    "\n",
    "browser.get(\"https://vi-vn.facebook.com/\")\n",
    "# cockies = pickle.load(open(r\"C:\\Users\\armi1\\PycharmProjects\\pythonProject\\venv\\crawl_data_facebook\\my_cockie.pkl\",\"rb\"))\n",
    "# for i in cockies:\n",
    "#     browser.add_cookie(i)\n",
    "# browser.get(\"https://vi-vn.facebook.com/\")\n",
    "sleep(2)\n",
    "browser.find_element(By.ID,'email').send_keys('nguyenxuanminh159@gmail.com')\n",
    "sleep(1)\n",
    "browser.find_element(By.ID,'pass').send_keys('minh10a123456')\n",
    "\n",
    "browser.find_element(By.XPATH,'/html/body/div[1]/div[2]/div[1]/div/div/div/div[2]/div/div[1]/form/div[2]/button').click()\n",
    "sleep(1)"
   ]
  },
  {
   "cell_type": "code",
   "execution_count": null,
   "id": "f9ce9211",
   "metadata": {},
   "outputs": [],
   "source": [
    "key_word = 'data analyst'\n",
    "def search_keyword(key_word):\n",
    "    search = browser.find_element(By.CLASS_NAME,'a5nuqjux')\n",
    "    search.send_keys(key_word)\n",
    "    search.send_keys(Keys.RETURN)\n",
    "    sleep(2)\n",
    "    browser.get(f\"https://www.facebook.com/search/groups?q={key_word}\")\n",
    "\n",
    "search_keyword(key_word)"
   ]
  },
  {
   "cell_type": "code",
   "execution_count": null,
   "id": "e8306596",
   "metadata": {},
   "outputs": [],
   "source": []
  }
 ],
 "metadata": {
  "kernelspec": {
   "display_name": "Python 3",
   "language": "python",
   "name": "python3"
  },
  "language_info": {
   "codemirror_mode": {
    "name": "ipython",
    "version": 3
   },
   "file_extension": ".py",
   "mimetype": "text/x-python",
   "name": "python",
   "nbconvert_exporter": "python",
   "pygments_lexer": "ipython3",
   "version": "3.8.8"
  }
 },
 "nbformat": 4,
 "nbformat_minor": 5
}
