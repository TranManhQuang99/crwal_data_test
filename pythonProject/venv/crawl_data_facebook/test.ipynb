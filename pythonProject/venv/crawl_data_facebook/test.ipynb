{
 "cells": [
  {
   "cell_type": "code",
   "execution_count": 18,
   "id": "0dd66881",
   "metadata": {},
   "outputs": [],
   "source": [
    "import datetime\n",
    "from datetime import datetime, timedelta\n",
    "# >>> now = datetime.datetime.now()\n",
    "# >>> today8am = now.replace(hour=8, minute=0, second=0, microsecond=0)\n",
    "# >>> now < today8am\n",
    "# True\n",
    "# >>> now == today8am\n",
    "# False\n",
    "# >>> now > today8am\n",
    "# False"
   ]
  },
  {
   "cell_type": "code",
   "execution_count": 2,
   "id": "e00b792b",
   "metadata": {},
   "outputs": [
    {
     "name": "stdout",
     "output_type": "stream",
     "text": [
      "2022-02-17 11:10:23.405811\n"
     ]
    }
   ],
   "source": [
    "now = datetime.datetime.now()\n",
    "print(now)"
   ]
  },
  {
   "cell_type": "code",
   "execution_count": 16,
   "id": "e481f677",
   "metadata": {},
   "outputs": [
    {
     "name": "stdout",
     "output_type": "stream",
     "text": [
      "2022-02-17 08:30:00\n"
     ]
    }
   ],
   "source": [
    "today8am = now.replace(hour=8, minute=30, second=0,microsecond=0)\n",
    "print(today8am)"
   ]
  },
  {
   "cell_type": "code",
   "execution_count": 20,
   "id": "c22a8729",
   "metadata": {},
   "outputs": [
    {
     "name": "stdout",
     "output_type": "stream",
     "text": [
      "2022-02-17 14:20:47.470579\n"
     ]
    }
   ],
   "source": [
    "now = datetime.now()\n",
    "print(now)"
   ]
  },
  {
   "cell_type": "code",
   "execution_count": 21,
   "id": "94c65ed8",
   "metadata": {},
   "outputs": [
    {
     "name": "stdout",
     "output_type": "stream",
     "text": [
      "False\n"
     ]
    }
   ],
   "source": [
    "x = now < today8am\n",
    "print(x)"
   ]
  },
  {
   "cell_type": "code",
   "execution_count": null,
   "id": "e8fbf7d8",
   "metadata": {},
   "outputs": [],
   "source": []
  }
 ],
 "metadata": {
  "kernelspec": {
   "display_name": "Python 3",
   "language": "python",
   "name": "python3"
  },
  "language_info": {
   "codemirror_mode": {
    "name": "ipython",
    "version": 3
   },
   "file_extension": ".py",
   "mimetype": "text/x-python",
   "name": "python",
   "nbconvert_exporter": "python",
   "pygments_lexer": "ipython3",
   "version": "3.8.8"
  }
 },
 "nbformat": 4,
 "nbformat_minor": 5
}
