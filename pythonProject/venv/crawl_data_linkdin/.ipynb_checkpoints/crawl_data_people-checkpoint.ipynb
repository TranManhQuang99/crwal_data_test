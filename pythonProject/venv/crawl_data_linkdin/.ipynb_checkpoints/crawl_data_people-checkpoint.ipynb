{
 "cells": [
  {
   "cell_type": "code",
   "execution_count": 1,
   "metadata": {
    "collapsed": true
   },
   "outputs": [],
   "source": [
    "import pickle\n",
    "from selenium import webdriver\n",
    "from time import sleep\n",
    "from selenium.webdriver.chrome import options\n",
    "from selenium.webdriver.chrome.options import Options\n",
    "from selenium.webdriver.common.keys import Keys\n",
    "from selenium.webdriver.common.action_chains import ActionChains\n",
    "from random import randint\n",
    "from bs4 import BeautifulSoup\n",
    "from webdriver_manager.chrome import ChromeDriverManager\n",
    "from selenium.webdriver.chrome.service import Service\n",
    "from  selenium.webdriver.common.by import By\n",
    "import csv\n",
    "import json\n",
    "import pymongo\n",
    "from pymongo import MongoClient\n",
    "import re\n",
    "import win32clipboard\n",
    "\n",
    "\n",
    "from selenium.webdriver.support import expected_conditions\n",
    "from selenium.webdriver.support.ui import WebDriverWait"
   ]
  },
  {
   "cell_type": "code",
   "execution_count": 2,
   "metadata": {
    "pycharm": {
     "name": "#%%\n"
    }
   },
   "outputs": [],
   "source": [
    "s = Service(\"C:/Users/armi1/PycharmProjects/pythonProject/venv/crawl_data_facebook\\chromedriver.exe\")\n",
    "browser = webdriver.Chrome(service=s)\n",
    "# mo thu 1 trang web\n",
    "browser.get(\"https://www.linkedin.com/checkpoint/rm/sign-in-another-account?fromSignIn=true&trk=guest_homepage-basic_nav-header-signin\")\n",
    "\n"
   ]
  },
  {
   "cell_type": "code",
   "execution_count": 4,
   "metadata": {
    "pycharm": {
     "name": "#%%\n"
    }
   },
   "outputs": [],
   "source": [
    "\n",
    "def login_linkdin():\n",
    "    credential = open('login.txt')\n",
    "    line = credential.readlines()\n",
    "    username = line[0]\n",
    "    password = line[1]\n",
    "    # import user name\n",
    "    email_field = browser.find_element(By.ID,'username')\n",
    "    email_field.send_keys(username)\n",
    "    sleep(randint(1,3))\n",
    "    # import password\n",
    "    password_login = browser.find_element(By.ID,'password')\n",
    "    password_login.send_keys(password)\n",
    "    sleep(randint(1,3))\n",
    "    #key in ueser name\n",
    "    login_field = browser.find_element(By.XPATH,\"/html/body/div/main/div[2]/div[1]/form/div[3]/button\")\n",
    "    login_field.click()\n",
    "login_linkdin()\n",
    "sleep(2)"
   ]
  },
  {
   "cell_type": "code",
   "execution_count": 10,
   "metadata": {
    "pycharm": {
     "name": "#%%\n"
    }
   },
   "outputs": [],
   "source": [
    "\n",
    "key_word = 'Data annotation'\n",
    "def search_linkdin():\n",
    "    x= browser.find_element(By.CLASS_NAME,'global-nav__content')\n",
    "    x.click()\n",
    "    sleep(2)\n",
    "    click_findkey = browser.find_element(By.XPATH,'//*[@id=\"global-nav-search\"]/div/button')\n",
    "    click_findkey.click()\n",
    "    sleep(3)\n",
    "    search_line = browser.find_element(By.XPATH,'//*[@id=\"global-nav-typeahead\"]/input')\n",
    "    sleep(2)\n",
    "    search_line.send_keys(key_word)\n",
    "    sleep(3)\n",
    "    search_line.send_keys(Keys.RETURN)\n",
    "    sleep(4)\n",
    "    Post = browser.find_element(By.XPATH,'//*[@aria-label=\"People\"]').click()\n",
    "    sleep(2)\n",
    "    browser.find_element(By.XPATH,'/html/body/div[5]/aside/section/header/div[3]/button[2]/li-icon').click()\n",
    "\n",
    "search_linkdin()\n"
   ]
  },
  {
   "cell_type": "code",
   "execution_count": null,
   "metadata": {
    "pycharm": {
     "name": "#%%\n"
    }
   },
   "outputs": [],
   "source": []
  }
 ],
 "metadata": {
  "kernelspec": {
   "display_name": "Python 3",
   "language": "python",
   "name": "python3"
  },
  "language_info": {
   "codemirror_mode": {
    "name": "ipython",
    "version": 3
   },
   "file_extension": ".py",
   "mimetype": "text/x-python",
   "name": "python",
   "nbconvert_exporter": "python",
   "pygments_lexer": "ipython3",
   "version": "3.8.8"
  }
 },
 "nbformat": 4,
 "nbformat_minor": 1
}
